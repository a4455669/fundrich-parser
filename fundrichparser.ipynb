{
 "cells": [
  {
   "cell_type": "code",
   "execution_count": 1,
   "metadata": {},
   "outputs": [],
   "source": [
    "import pandas as pd\n",
    "import numpy as np\n",
    "from selenium import webdriver\n",
    "import time\n",
    "import os\n",
    "import datetime\n",
    "\n",
    "chrome_path = \"selenium_driver_chrome/chromedriver.exe\" \n",
    "username = \"Enter yours\"\n",
    "password = \"Enter yours\"\n",
    "gmailsername = 'Enter yours'\n",
    "gmailpassword = 'Enter yours'\n",
    "\n",
    "\n",
    "web = webdriver.Chrome(chrome_path)\n",
    "\n",
    "web.get('https://www.fundrich.com.tw/FundWeb/Overview/Investment.aspx')\n",
    "web.set_window_position(0,0) #瀏覽器位置\n",
    "web.set_window_size(700,700) #瀏覽器大小\n",
    "time.sleep(5)\n",
    "\n",
    "web.find_element_by_xpath(\"//input[@type='text']\").send_keys(username)\n",
    "web.find_element_by_xpath(\"//input[@type='password']\").send_keys(password)\n",
    "web.find_element_by_xpath('//*[@id=\"content\"]/div/div/div[2]/div/div[2]/div/div/button').click()\n",
    "time.sleep(5)\n",
    "web.get(\"https://www.fundrich.com.tw/FundWeb/Overview/Investment.aspx\")\n"
   ]
  },
  {
   "cell_type": "code",
   "execution_count": 2,
   "metadata": {
    "scrolled": true
   },
   "outputs": [
    {
     "name": "stdout",
     "output_type": "stream",
     "text": [
      "-2.59%\n"
     ]
    }
   ],
   "source": [
    "web.find_element_by_xpath('//*[@id=\"table1_length\"]/label/select/option[3]').click()\n",
    "time.sleep(2)\n",
    "\n",
    "spn_INCOME_RATE = web.find_element_by_xpath('//*[@id=\"spn_INCOME_RATE\"]').text\n",
    "\n",
    "print(spn_INCOME_RATE)"
   ]
  },
  {
   "cell_type": "code",
   "execution_count": 3,
   "metadata": {},
   "outputs": [],
   "source": [
    "content_data = []\n",
    "header_data = []\n",
    "table = web.find_element_by_xpath('//*[@id=\"table1\"]')\n",
    "table_header = [header.text for header in table.find_elements_by_tag_name('th')]\n",
    "table_content = [header.text for header in table.find_elements_by_tag_name('td')]\n"
   ]
  },
  {
   "cell_type": "code",
   "execution_count": 4,
   "metadata": {},
   "outputs": [],
   "source": [
    "new_table_header=[]\n",
    "for txt in table_header:\n",
    "    if txt == '平均\\n成本\\n參考\\n匯率':\n",
    "        txt = '平均成本\\n參考匯率'\n",
    "    if txt == '交易\\n幣別':\n",
    "        txt = '交易幣別'\n",
    "    if txt == '報酬率\\n(含息)\\n報酬率\\n(不含息)':\n",
    "        txt = '報酬率(含息)\\n報酬率(不含息)'\n",
    "    new_table_header.extend(txt.split(\"\\n\")) \n"
   ]
  },
  {
   "cell_type": "code",
   "execution_count": 5,
   "metadata": {},
   "outputs": [],
   "source": [
    "new_table_content=[]\n",
    "for txt in table_content:\n",
    "    if txt == '買回\\n轉換\\n轉申購':\n",
    "        txt =  '買回轉換轉申購'\n",
    "    new_table_content.extend(txt.split(\"\\n\")) \n",
    "    \n",
    "    \n",
    "new_table_content = np.array(new_table_content).reshape(-1,len(new_table_header))\n",
    "    "
   ]
  },
  {
   "cell_type": "code",
   "execution_count": 6,
   "metadata": {},
   "outputs": [],
   "source": [
    "new_df = pd.DataFrame(columns=new_table_header, data=new_table_content)\n",
    "new_df['報酬率(含息)'] = new_df['報酬率(含息)'].str.replace(r'%', r'').astype('float') \n",
    "ReturnWithInterest = np.average(new_df['報酬率(含息)'], weights=new_df['台幣本金'].str.replace(r',', r'').astype('float')/new_df['台幣本金'].str.replace(r',', r'').astype('float').sum())\n",
    "ReturnWithInterest = \"{0:.2f}%\".format(ReturnWithInterest)\n",
    "new_df = new_df.sort_values(by=['報酬率(含息)'])\n",
    "new_df['報酬率(含息)'] = pd.Series([\"{0:.2f}%\".format(val ) for val in new_df['報酬率(含息)']], index = new_df.index)"
   ]
  },
  {
   "cell_type": "code",
   "execution_count": 7,
   "metadata": {},
   "outputs": [],
   "source": [
    "filename = \"fundrich-overview/fundrich{0}.csv\"\n",
    "oldfilename = filename.format('')\n",
    "while (os.path.isfile(oldfilename)):\n",
    "    v= datetime.datetime.fromtimestamp(os.path.getmtime(oldfilename))\n",
    "    x = v.strftime('%Y%m%d-%H%M%S')\n",
    "    try:\n",
    "        os.rename(oldfilename,filename.format(x))\n",
    "    except FileExistsError:\n",
    "        os.remove(filename.format(x))\n",
    "        os.rename(oldfilename,filename.format(x))\n",
    "\n",
    "new_df.to_csv(oldfilename, encoding=\"big5\")"
   ]
  },
  {
   "cell_type": "code",
   "execution_count": 8,
   "metadata": {},
   "outputs": [],
   "source": [
    "filename = \"fundrich-overview/fundrichoverview.csv\"\n",
    "v= datetime.datetime.fromtimestamp(os.path.getmtime(oldfilename))\n",
    "if(not os.path.isfile(filename)):\n",
    "    f = open(filename,\"w\")\n",
    "    f.write(\"Datatime,Return\\n\")\n",
    "    f.close()\n",
    "\n",
    "f = open(filename,\"a\")\n",
    "f.write(\"{0},{1}\\n\".format(str(v),spn_INCOME_RATE))\n",
    "f.close()\n",
    "\n"
   ]
  },
  {
   "cell_type": "code",
   "execution_count": 9,
   "metadata": {},
   "outputs": [
    {
     "data": {
      "text/plain": [
       "{}"
      ]
     },
     "execution_count": 9,
     "metadata": {},
     "output_type": "execute_result"
    }
   ],
   "source": [
    "from email.mime.text import MIMEText\n",
    "from email.mime.application import MIMEApplication\n",
    "from email.mime.multipart import MIMEMultipart\n",
    "from smtplib import SMTP\n",
    "import smtplib\n",
    "import sys\n",
    "\n",
    "\n",
    "\n",
    "recipients = ['a4455669@gmail.com'] \n",
    "emaillist = [elem.strip().split(',') for elem in recipients]\n",
    "msg = MIMEMultipart()\n",
    "msg['Subject'] = \"Fundrich Summary\"\n",
    "msg['From'] = 'a4455669@gmail.com'\n",
    "\n",
    "\n",
    "html = \"\"\"\\\n",
    "<html>\n",
    "  <head>總投報率(含息):{0} <br/> 總投報率(不含息):{1}   </head>\n",
    "  <body>\n",
    "    {2}\n",
    "  </body>\n",
    "</html>\n",
    "\"\"\".format(ReturnWithInterest, spn_INCOME_RATE ,new_df.to_html())\n",
    "\n",
    "part1 = MIMEText(html, 'html')\n",
    "msg.attach(part1)\n",
    "\n",
    "\n",
    "server = smtplib.SMTP('smtp.gmail.com:587')\n",
    "server.ehlo()\n",
    "server.starttls()\n",
    "server.login(gmailsername,gmailpassword)\n",
    "server.sendmail(msg['From'], emaillist , msg.as_string())"
   ]
  },
  {
   "cell_type": "code",
   "execution_count": 10,
   "metadata": {},
   "outputs": [],
   "source": [
    "web.quit()"
   ]
  }
 ],
 "metadata": {
  "kernelspec": {
   "display_name": "Python 3",
   "language": "python",
   "name": "python3"
  },
  "language_info": {
   "codemirror_mode": {
    "name": "ipython",
    "version": 3
   },
   "file_extension": ".py",
   "mimetype": "text/x-python",
   "name": "python",
   "nbconvert_exporter": "python",
   "pygments_lexer": "ipython3",
   "version": "3.6.5"
  }
 },
 "nbformat": 4,
 "nbformat_minor": 2
}
